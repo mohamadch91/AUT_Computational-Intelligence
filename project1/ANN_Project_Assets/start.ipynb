{
  "nbformat": 4,
  "nbformat_minor": 0,
  "metadata": {
    "colab": {
      "name": "Untitled1.ipynb",
      "provenance": [],
      "collapsed_sections": []
    },
    "kernelspec": {
      "name": "python3",
      "display_name": "Python 3"
    },
    "language_info": {
      "name": "python"
    }
  },
  "cells": [
    {
      "cell_type": "code",
      "metadata": {
        "id": "cQ-hdEr2l5yD"
      },
      "source": [
        "import numpy as np\n",
        "import random\n",
        "import pickle"
      ],
      "execution_count": 2,
      "outputs": []
    },
    {
      "cell_type": "code",
      "metadata": {
        "colab": {
          "base_uri": "https://localhost:8080/"
        },
        "id": "8-GDnhTdmq-e",
        "outputId": "535a56fc-ceee-44a7-d3e5-c8e1388599fa"
      },
      "source": [
        "cd first"
      ],
      "execution_count": 15,
      "outputs": [
        {
          "output_type": "stream",
          "name": "stdout",
          "text": [
            "/content/drive/My Drive/Colab Notebooks/first\n"
          ]
        }
      ]
    },
    {
      "cell_type": "code",
      "metadata": {
        "colab": {
          "base_uri": "https://localhost:8080/"
        },
        "id": "kpIchvdTmJue",
        "outputId": "1006d112-11e6-4bb2-dcfe-70600dc4c4e6"
      },
      "source": [
        "# loading training set features\n",
        "f = open(\"Datasets/train_set_features.pkl\", \"rb\")\n",
        "train_set_features2 = pickle.load(f)\n",
        "f.close()\n",
        "\n",
        "# reducing feature vector length \n",
        "features_STDs = np.std(a=train_set_features2, axis=0)\n",
        "train_set_features = train_set_features2[:, features_STDs > 52.3]\n",
        "\n",
        "# changing the range of data between 0 and 1\n",
        "train_set_features = np.divide(train_set_features, train_set_features.max())\n",
        "\n",
        "# loading training set labels\n",
        "f = open(\"Datasets/train_set_labels.pkl\", \"rb\")\n",
        "train_set_labels = pickle.load(f)\n",
        "f.close()\n",
        "\n",
        "# ------------\n",
        "# loading test set features\n",
        "f = open(\"Datasets/test_set_features.pkl\", \"rb\")\n",
        "test_set_features2 = pickle.load(f)\n",
        "f.close()\n",
        "\n",
        "# reducing feature vector length \n",
        "features_STDs = np.std(a=test_set_features2, axis=0)\n",
        "test_set_features = test_set_features2[:, features_STDs > 48]\n",
        "\n",
        "# changing the range of data between 0 and 1\n",
        "test_set_features = np.divide(test_set_features, test_set_features.max())\n",
        "\n",
        "# loading test set labels\n",
        "f = open(\"Datasets/test_set_labels.pkl\", \"rb\")\n",
        "test_set_labels = pickle.load(f)\n",
        "f.close()\n",
        "\n",
        "# ------------\n",
        "# preparing our training and test sets - joining datasets and lables\n",
        "train_set = []\n",
        "test_set = []\n",
        "\n",
        "for i in range(len(train_set_features)):\n",
        "    label = np.array([0,0,0,0])\n",
        "    label[int(train_set_labels[i])] = 1\n",
        "    label = label.reshape(4,1)\n",
        "    train_set.append((train_set_features[i].reshape(102,1), label))\n",
        "    \n",
        "\n",
        "for i in range(len(test_set_features)):\n",
        "    label = np.array([0,0,0,0])\n",
        "    label[int(test_set_labels[i])] = 1\n",
        "    label = label.reshape(4,1)\n",
        "    test_set.append((test_set_features[i].reshape(102,1), label))\n",
        "\n",
        "# shuffle\n",
        "random.shuffle(train_set)\n",
        "random.shuffle(test_set)\n",
        "\n",
        "# print size\n",
        "print(len(train_set)) #1962\n",
        "print(len(test_set)) #662\n"
      ],
      "execution_count": 16,
      "outputs": [
        {
          "output_type": "stream",
          "name": "stdout",
          "text": [
            "1962\n",
            "662\n"
          ]
        }
      ]
    },
    {
      "cell_type": "code",
      "metadata": {
        "colab": {
          "base_uri": "https://localhost:8080/"
        },
        "id": "sKUu4eermp2s",
        "outputId": "1288e8a8-5b8d-4a05-d2c7-a8ead7d70716"
      },
      "source": [
        "train_set[0]"
      ],
      "execution_count": 21,
      "outputs": [
        {
          "output_type": "execute_result",
          "data": {
            "text/plain": [
              "(array([[5.06720850e-01],\n",
              "        [2.14442013e-01],\n",
              "        [3.51672398e-01],\n",
              "        [3.47921225e-01],\n",
              "        [2.67896218e-01],\n",
              "        [1.25664270e-01],\n",
              "        [1.32854017e-01],\n",
              "        [1.12222570e-01],\n",
              "        [6.81462957e-02],\n",
              "        [5.81431697e-02],\n",
              "        [1.75367302e-01],\n",
              "        [2.68834011e-02],\n",
              "        [3.53235386e-02],\n",
              "        [3.43857455e-03],\n",
              "        [1.81306658e-02],\n",
              "        [3.87621132e-02],\n",
              "        [4.37636761e-03],\n",
              "        [8.12753986e-03],\n",
              "        [9.37793060e-04],\n",
              "        [2.81337918e-03],\n",
              "        [1.78180681e-02],\n",
              "        [1.37542982e-02],\n",
              "        [6.25195374e-04],\n",
              "        [3.43857455e-03],\n",
              "        [1.12535167e-02],\n",
              "        [5.93935605e-03],\n",
              "        [3.12597687e-04],\n",
              "        [6.25195374e-04],\n",
              "        [0.00000000e+00],\n",
              "        [8.44013754e-03],\n",
              "        [0.00000000e+00],\n",
              "        [9.37793060e-04],\n",
              "        [0.00000000e+00],\n",
              "        [1.25039075e-03],\n",
              "        [0.00000000e+00],\n",
              "        [3.75117224e-03],\n",
              "        [1.56298843e-03],\n",
              "        [0.00000000e+00],\n",
              "        [0.00000000e+00],\n",
              "        [1.68802751e-02],\n",
              "        [0.00000000e+00],\n",
              "        [6.25195374e-04],\n",
              "        [7.12722726e-02],\n",
              "        [0.00000000e+00],\n",
              "        [0.00000000e+00],\n",
              "        [0.00000000e+00],\n",
              "        [0.00000000e+00],\n",
              "        [0.00000000e+00],\n",
              "        [0.00000000e+00],\n",
              "        [0.00000000e+00],\n",
              "        [1.37542982e-02],\n",
              "        [0.00000000e+00],\n",
              "        [0.00000000e+00],\n",
              "        [0.00000000e+00],\n",
              "        [0.00000000e+00],\n",
              "        [0.00000000e+00],\n",
              "        [0.00000000e+00],\n",
              "        [0.00000000e+00],\n",
              "        [0.00000000e+00],\n",
              "        [0.00000000e+00],\n",
              "        [1.46920913e-02],\n",
              "        [0.00000000e+00],\n",
              "        [3.12597687e-04],\n",
              "        [0.00000000e+00],\n",
              "        [0.00000000e+00],\n",
              "        [9.37793060e-04],\n",
              "        [0.00000000e+00],\n",
              "        [2.18818381e-03],\n",
              "        [8.19005939e-02],\n",
              "        [0.00000000e+00],\n",
              "        [0.00000000e+00],\n",
              "        [0.00000000e+00],\n",
              "        [0.00000000e+00],\n",
              "        [0.00000000e+00],\n",
              "        [0.00000000e+00],\n",
              "        [3.12597687e-04],\n",
              "        [0.00000000e+00],\n",
              "        [0.00000000e+00],\n",
              "        [0.00000000e+00],\n",
              "        [0.00000000e+00],\n",
              "        [0.00000000e+00],\n",
              "        [0.00000000e+00],\n",
              "        [0.00000000e+00],\n",
              "        [0.00000000e+00],\n",
              "        [0.00000000e+00],\n",
              "        [0.00000000e+00],\n",
              "        [4.97030322e-02],\n",
              "        [0.00000000e+00],\n",
              "        [0.00000000e+00],\n",
              "        [0.00000000e+00],\n",
              "        [0.00000000e+00],\n",
              "        [0.00000000e+00],\n",
              "        [0.00000000e+00],\n",
              "        [0.00000000e+00],\n",
              "        [0.00000000e+00],\n",
              "        [0.00000000e+00],\n",
              "        [0.00000000e+00],\n",
              "        [0.00000000e+00],\n",
              "        [0.00000000e+00],\n",
              "        [0.00000000e+00],\n",
              "        [0.00000000e+00],\n",
              "        [6.68959050e-02]]), array([[1],\n",
              "        [0],\n",
              "        [0],\n",
              "        [0]]))"
            ]
          },
          "metadata": {},
          "execution_count": 21
        }
      ]
    },
    {
      "cell_type": "code",
      "metadata": {
        "id": "WiF5vlDrtbdy"
      },
      "source": [
        ""
      ],
      "execution_count": null,
      "outputs": []
    }
  ]
}